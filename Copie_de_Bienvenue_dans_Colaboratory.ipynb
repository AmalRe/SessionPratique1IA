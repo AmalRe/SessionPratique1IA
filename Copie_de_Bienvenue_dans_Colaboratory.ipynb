{
  "cells": [
    {
      "cell_type": "markdown",
      "source": [
        "# 1) Importer le jeu de données **Diabetes Dataset 2019.csv** dans un DataFrame data en utilisant la fonction **read_csv**"
      ],
      "metadata": {
        "id": "udV2-p7zOhtA"
      }
    },
    {
      "cell_type": "code",
      "source": [],
      "metadata": {
        "id": "8e7gaVR9Og5Z"
      },
      "execution_count": null,
      "outputs": []
    },
    {
      "cell_type": "code",
      "source": [],
      "metadata": {
        "id": "XtgETZZMOZgq"
      },
      "execution_count": null,
      "outputs": []
    },
    {
      "cell_type": "markdown",
      "source": [
        "# 2) Afficher les informations du DataFrame obtenu ainsi que les noms des colonnes, la dimension, et les types des donnèes contenues dans chaque colonne."
      ],
      "metadata": {
        "id": "Ana0bkpRZZpx"
      }
    },
    {
      "cell_type": "code",
      "source": [],
      "metadata": {
        "id": "kHSGCVJXZY3E"
      },
      "execution_count": null,
      "outputs": []
    },
    {
      "cell_type": "markdown",
      "source": [
        "#3) Afficher le nombre des observations nulles pour chaque colonne"
      ],
      "metadata": {
        "id": "R1j2nFO_kPYw"
      }
    },
    {
      "cell_type": "code",
      "source": [],
      "metadata": {
        "id": "LrlVfL7cfqdr"
      },
      "execution_count": null,
      "outputs": []
    },
    {
      "cell_type": "markdown",
      "source": [
        "# 4) Supprimer toutes les observations qui contiennent des valeurs manquantes"
      ],
      "metadata": {
        "id": "6HMPwFCqfizl"
      }
    },
    {
      "cell_type": "code",
      "source": [],
      "metadata": {
        "id": "kARiY-eDfp5z"
      },
      "execution_count": null,
      "outputs": []
    },
    {
      "cell_type": "markdown",
      "source": [
        "# 5) Vérifier si l'ensemble des données est équilibré : le nombre des sujets malades et celui des sujets sains sont ils égaux"
      ],
      "metadata": {
        "id": "VF8kaVoufrCT"
      }
    },
    {
      "cell_type": "code",
      "source": [],
      "metadata": {
        "id": "lKCiMz4NfyxU"
      },
      "execution_count": null,
      "outputs": []
    },
    {
      "cell_type": "markdown",
      "source": [],
      "metadata": {
        "id": "VAr5ux4HfzOD"
      }
    },
    {
      "cell_type": "markdown",
      "source": [
        "# 6) Supprimer l'observation non valide"
      ],
      "metadata": {
        "id": "A7NFCo5Bf25h"
      }
    },
    {
      "cell_type": "markdown",
      "source": [],
      "metadata": {
        "id": "HbxqM7H0f9wr"
      }
    },
    {
      "cell_type": "markdown",
      "source": [
        "# 7) Transformer le contenu de chaque colonne catégorielle en des valeurs numériques."
      ],
      "metadata": {
        "id": "pHFLnALLf4Ti"
      }
    },
    {
      "cell_type": "code",
      "source": [],
      "metadata": {
        "id": "MuDao2ztf8rb"
      },
      "execution_count": null,
      "outputs": []
    },
    {
      "cell_type": "markdown",
      "source": [
        "# 8)Appliquer la méthode SMOTE pour équilibrer le nombre des données des deux classes."
      ],
      "metadata": {
        "id": "zUNwG8Qaf9DD"
      }
    },
    {
      "cell_type": "code",
      "source": [],
      "metadata": {
        "id": "3pjP8A6KgEpk"
      },
      "execution_count": null,
      "outputs": []
    },
    {
      "cell_type": "markdown",
      "source": [
        "# 9)Standardiser les données en utilisant la classe StandardScaler de la bibliothèque sklearn."
      ],
      "metadata": {
        "id": "RxcjRfz9gNYT"
      }
    },
    {
      "cell_type": "code",
      "source": [],
      "metadata": {
        "id": "6c0AVetggQE7"
      },
      "execution_count": null,
      "outputs": []
    },
    {
      "cell_type": "markdown",
      "source": [
        "# 10) Sauvgarder le résultat au format csv."
      ],
      "metadata": {
        "id": "rD2nPfY7gD_z"
      }
    },
    {
      "cell_type": "code",
      "source": [],
      "metadata": {
        "id": "YdTG5HoLgSYr"
      },
      "execution_count": null,
      "outputs": []
    },
    {
      "cell_type": "markdown",
      "source": [
        "# 12) Quels sont les couples de variables les plus corrélées"
      ],
      "metadata": {
        "id": "u_F2EbZhBB2X"
      }
    },
    {
      "cell_type": "code",
      "source": [
        "from scipy.stats import pearsonr\n",
        "# calculate Pearson's correlation\n",
        "max=0\n",
        "for i in range(7):\n",
        "    for j in range(i+1,7):\n",
        "       if pearsonr(new_data.iloc[:,i],new_data.iloc[:,j])[0]> max and pearsonr(new_data.iloc[:,i],new_data.iloc[:,j])[0]<1:\n",
        "          max=pearsonr(new_data.iloc[:,i],new_data.iloc[:,j])[0]\n",
        "          col1=new_data.columns[i]\n",
        "          col2=new_data.columns[j]\n",
        "print(col1,col2,max)"
      ],
      "metadata": {
        "id": "2NdqhdUdkSII"
      },
      "execution_count": null,
      "outputs": []
    },
    {
      "cell_type": "markdown",
      "source": [
        "# 11) Afficher et analyser la matrice de corrélation."
      ],
      "metadata": {
        "id": "KAuTfiKOBGnX"
      }
    },
    {
      "cell_type": "code",
      "source": [
        "import matplotlib.pyplot as plt\n",
        "import seaborn\n",
        "plt.subplots_adjust(hspace=10, wspace=10,bottom=0.2)\n",
        "matrice=data_scaled.corr()\n",
        "seaborn.heatmap(matrice,annot=True)"
      ],
      "metadata": {
        "id": "JL43b099BGKJ"
      },
      "execution_count": null,
      "outputs": []
    },
    {
      "cell_type": "markdown",
      "source": [
        "# 10) Vérifiez les moyennes et les écarts types du colonne 'Sleep' du nouveau Data Frame."
      ],
      "metadata": {
        "id": "_DVFU42UBTQo"
      }
    },
    {
      "cell_type": "code",
      "source": [
        "print(data_scaled['Sleep'].mean(), data_scaled['Sleep'].std())"
      ],
      "metadata": {
        "id": "DV-bkXXmBRmJ"
      },
      "execution_count": null,
      "outputs": []
    },
    {
      "cell_type": "markdown",
      "source": [
        "# 9) Standardiser les données en utilisant la classe StandardScaler de la bibliothèque sklearn."
      ],
      "metadata": {
        "id": "RprUIGSsBbCk"
      }
    },
    {
      "cell_type": "code",
      "source": [
        "from sklearn.preprocessing import StandardScaler"
      ],
      "metadata": {
        "id": "idqLs27tBZe0"
      },
      "execution_count": null,
      "outputs": []
    },
    {
      "cell_type": "code",
      "source": [
        "mise_a_echelle = StandardScaler()"
      ],
      "metadata": {
        "id": "3K1C645mBkN9"
      },
      "execution_count": null,
      "outputs": []
    },
    {
      "cell_type": "code",
      "source": [
        "new_data2 = mise_a_echelle.fit_transform(new_data)"
      ],
      "metadata": {
        "id": "aco4IuqvBm94"
      },
      "execution_count": null,
      "outputs": []
    },
    {
      "cell_type": "code",
      "source": [
        "data_scaled = pd.DataFrame(new_data2)"
      ],
      "metadata": {
        "id": "Pop6Ot35BoRH"
      },
      "execution_count": null,
      "outputs": []
    },
    {
      "cell_type": "code",
      "source": [
        "data_scaled.columns=new_data.columns"
      ],
      "metadata": {
        "id": "YNBWFQDBBpoQ"
      },
      "execution_count": null,
      "outputs": []
    }
  ],
  "metadata": {
    "colab": {
      "provenance": []
    },
    "kernelspec": {
      "display_name": "Python 3",
      "name": "python3"
    }
  },
  "nbformat": 4,
  "nbformat_minor": 0
}